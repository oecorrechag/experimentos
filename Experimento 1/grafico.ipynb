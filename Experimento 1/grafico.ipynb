{
 "cells": [
  {
   "cell_type": "code",
   "execution_count": 1,
   "metadata": {},
   "outputs": [],
   "source": [
    "import pandas as pd\n",
    "import plotly.express as px\n",
    "\n",
    "from scipy import stats\n",
    "import statsmodels.stats.multicomp as mc"
   ]
  },
  {
   "cell_type": "code",
   "execution_count": 2,
   "metadata": {},
   "outputs": [],
   "source": [
    "labels={\n",
    "    'sin':'Sin OpenMP',\n",
    "    'con':'Con OpenMP',\n",
    "    'numpy':'Numpy',\n",
    "    'Reficiente':'R-eficiente',\n",
    "    'R':'Software-R',\n",
    "    'experiment':'Tamaño de la matriz',\n",
    "    'Valor':'Tiempo en segundos'\n",
    "}"
   ]
  },
  {
   "cell_type": "code",
   "execution_count": 4,
   "metadata": {},
   "outputs": [
    {
     "data": {
      "text/html": [
       "<div>\n",
       "<style scoped>\n",
       "    .dataframe tbody tr th:only-of-type {\n",
       "        vertical-align: middle;\n",
       "    }\n",
       "\n",
       "    .dataframe tbody tr th {\n",
       "        vertical-align: top;\n",
       "    }\n",
       "\n",
       "    .dataframe thead th {\n",
       "        text-align: right;\n",
       "    }\n",
       "</style>\n",
       "<table border=\"1\" class=\"dataframe\">\n",
       "  <thead>\n",
       "    <tr style=\"text-align: right;\">\n",
       "      <th></th>\n",
       "      <th>experiment</th>\n",
       "      <th>Variable</th>\n",
       "      <th>Valor</th>\n",
       "    </tr>\n",
       "  </thead>\n",
       "  <tbody>\n",
       "    <tr>\n",
       "      <th>0</th>\n",
       "      <td>100</td>\n",
       "      <td>sin</td>\n",
       "      <td>0.004972</td>\n",
       "    </tr>\n",
       "    <tr>\n",
       "      <th>1</th>\n",
       "      <td>100</td>\n",
       "      <td>sin</td>\n",
       "      <td>0.004572</td>\n",
       "    </tr>\n",
       "    <tr>\n",
       "      <th>2</th>\n",
       "      <td>100</td>\n",
       "      <td>sin</td>\n",
       "      <td>0.005439</td>\n",
       "    </tr>\n",
       "    <tr>\n",
       "      <th>3</th>\n",
       "      <td>100</td>\n",
       "      <td>sin</td>\n",
       "      <td>0.004857</td>\n",
       "    </tr>\n",
       "    <tr>\n",
       "      <th>4</th>\n",
       "      <td>100</td>\n",
       "      <td>sin</td>\n",
       "      <td>0.004686</td>\n",
       "    </tr>\n",
       "  </tbody>\n",
       "</table>\n",
       "</div>"
      ],
      "text/plain": [
       "   experiment Variable     Valor\n",
       "0         100      sin  0.004972\n",
       "1         100      sin  0.004572\n",
       "2         100      sin  0.005439\n",
       "3         100      sin  0.004857\n",
       "4         100      sin  0.004686"
      ]
     },
     "execution_count": 4,
     "metadata": {},
     "output_type": "execute_result"
    }
   ],
   "source": [
    "df = pd.read_csv('../data/experimento1.csv', sep = ',', decimal = '.', header = 0, encoding = 'utf-8')\n",
    "df = df.melt(id_vars=['experiment'], \n",
    "             value_vars=['sin', 'con', 'numpy', 'Reficiente', 'R'],\n",
    "             var_name='Variable', \n",
    "             value_name='Valor')\n",
    "df.head()"
   ]
  },
  {
   "cell_type": "code",
   "execution_count": 78,
   "metadata": {},
   "outputs": [
    {
     "name": "stdout",
     "output_type": "stream",
     "text": [
      "<class 'pandas.core.frame.DataFrame'>\n",
      "RangeIndex: 250 entries, 0 to 249\n",
      "Data columns (total 3 columns):\n",
      " #   Column      Non-Null Count  Dtype  \n",
      "---  ------      --------------  -----  \n",
      " 0   experiment  250 non-null    int64  \n",
      " 1   Variable    250 non-null    object \n",
      " 2   Valor       250 non-null    float64\n",
      "dtypes: float64(1), int64(1), object(1)\n",
      "memory usage: 6.0+ KB\n"
     ]
    }
   ],
   "source": [
    "df.info()"
   ]
  },
  {
   "cell_type": "code",
   "execution_count": 5,
   "metadata": {},
   "outputs": [
    {
     "data": {
      "text/html": [
       "<div>\n",
       "<style scoped>\n",
       "    .dataframe tbody tr th:only-of-type {\n",
       "        vertical-align: middle;\n",
       "    }\n",
       "\n",
       "    .dataframe tbody tr th {\n",
       "        vertical-align: top;\n",
       "    }\n",
       "\n",
       "    .dataframe thead th {\n",
       "        text-align: right;\n",
       "    }\n",
       "</style>\n",
       "<table border=\"1\" class=\"dataframe\">\n",
       "  <thead>\n",
       "    <tr style=\"text-align: right;\">\n",
       "      <th></th>\n",
       "      <th>experiment</th>\n",
       "      <th>Variable</th>\n",
       "      <th>Valor</th>\n",
       "    </tr>\n",
       "  </thead>\n",
       "  <tbody>\n",
       "    <tr>\n",
       "      <th>0</th>\n",
       "      <td>100</td>\n",
       "      <td>R</td>\n",
       "      <td>0.256616</td>\n",
       "    </tr>\n",
       "    <tr>\n",
       "      <th>1</th>\n",
       "      <td>100</td>\n",
       "      <td>Reficiente</td>\n",
       "      <td>0.002029</td>\n",
       "    </tr>\n",
       "    <tr>\n",
       "      <th>2</th>\n",
       "      <td>100</td>\n",
       "      <td>con</td>\n",
       "      <td>0.003717</td>\n",
       "    </tr>\n",
       "    <tr>\n",
       "      <th>3</th>\n",
       "      <td>100</td>\n",
       "      <td>numpy</td>\n",
       "      <td>0.001005</td>\n",
       "    </tr>\n",
       "    <tr>\n",
       "      <th>4</th>\n",
       "      <td>100</td>\n",
       "      <td>sin</td>\n",
       "      <td>0.004929</td>\n",
       "    </tr>\n",
       "  </tbody>\n",
       "</table>\n",
       "</div>"
      ],
      "text/plain": [
       "   experiment    Variable     Valor\n",
       "0         100           R  0.256616\n",
       "1         100  Reficiente  0.002029\n",
       "2         100         con  0.003717\n",
       "3         100       numpy  0.001005\n",
       "4         100         sin  0.004929"
      ]
     },
     "execution_count": 5,
     "metadata": {},
     "output_type": "execute_result"
    }
   ],
   "source": [
    "df2 = df.copy()\n",
    "df2 = df2.groupby(['experiment','Variable'])['Valor'].mean().reset_index()\n",
    "df2.head()"
   ]
  },
  {
   "cell_type": "code",
   "execution_count": 6,
   "metadata": {},
   "outputs": [
    {
     "data": {
      "application/vnd.plotly.v1+json": {
       "config": {
        "plotlyServerURL": "https://plot.ly"
       },
       "data": [
        {
         "hovertemplate": "Variable=R<br>Tamaño de la matriz=%{x}<br>Tiempo en segundos=%{y}<extra></extra>",
         "legendgroup": "R",
         "line": {
          "color": "#636efa",
          "dash": "solid"
         },
         "marker": {
          "symbol": "circle"
         },
         "mode": "markers+lines",
         "name": "R",
         "orientation": "v",
         "showlegend": true,
         "type": "scatter",
         "x": [
          100,
          200,
          300,
          400,
          500
         ],
         "xaxis": "x",
         "y": [
          0.25661590106666665,
          1.8064311505,
          5.6975831428333334,
          13.180320436666667,
          24.64737769766667
         ],
         "yaxis": "y"
        },
        {
         "hovertemplate": "Variable=Reficiente<br>Tamaño de la matriz=%{x}<br>Tiempo en segundos=%{y}<extra></extra>",
         "legendgroup": "Reficiente",
         "line": {
          "color": "#EF553B",
          "dash": "solid"
         },
         "marker": {
          "symbol": "circle"
         },
         "mode": "markers+lines",
         "name": "Reficiente",
         "orientation": "v",
         "showlegend": true,
         "type": "scatter",
         "x": [
          100,
          200,
          300,
          400,
          500
         ],
         "xaxis": "x",
         "y": [
          0.002028671933333333,
          0.0145855824,
          0.03376536373333334,
          0.06021440026666667,
          0.103831013
         ],
         "yaxis": "y"
        },
        {
         "hovertemplate": "Variable=con<br>Tamaño de la matriz=%{x}<br>Tiempo en segundos=%{y}<extra></extra>",
         "legendgroup": "con",
         "line": {
          "color": "#00cc96",
          "dash": "solid"
         },
         "marker": {
          "symbol": "circle"
         },
         "mode": "markers+lines",
         "name": "con",
         "orientation": "v",
         "showlegend": true,
         "type": "scatter",
         "x": [
          100,
          200,
          300,
          400,
          500
         ],
         "xaxis": "x",
         "y": [
          0.0037173333333333338,
          0.02880246666666667,
          0.06381966666666666,
          0.2276975,
          0.30910923333333334
         ],
         "yaxis": "y"
        },
        {
         "hovertemplate": "Variable=numpy<br>Tamaño de la matriz=%{x}<br>Tiempo en segundos=%{y}<extra></extra>",
         "legendgroup": "numpy",
         "line": {
          "color": "#ab63fa",
          "dash": "solid"
         },
         "marker": {
          "symbol": "circle"
         },
         "mode": "markers+lines",
         "name": "numpy",
         "orientation": "v",
         "showlegend": true,
         "type": "scatter",
         "x": [
          100,
          200,
          300,
          400,
          500
         ],
         "xaxis": "x",
         "y": [
          0.0010050153666666666,
          0.009315271433333333,
          0.03059727866666667,
          0.08491324393333333,
          0.15269769206666667
         ],
         "yaxis": "y"
        },
        {
         "hovertemplate": "Variable=sin<br>Tamaño de la matriz=%{x}<br>Tiempo en segundos=%{y}<extra></extra>",
         "legendgroup": "sin",
         "line": {
          "color": "#FFA15A",
          "dash": "solid"
         },
         "marker": {
          "symbol": "circle"
         },
         "mode": "markers+lines",
         "name": "sin",
         "orientation": "v",
         "showlegend": true,
         "type": "scatter",
         "x": [
          100,
          200,
          300,
          400,
          500
         ],
         "xaxis": "x",
         "y": [
          0.0049293,
          0.045046833333333335,
          0.16034026666666668,
          0.3712376666666667,
          0.7832795333333333
         ],
         "yaxis": "y"
        }
       ],
       "layout": {
        "legend": {
         "title": {
          "text": "Variable"
         },
         "tracegroupgap": 0
        },
        "margin": {
         "t": 60
        },
        "template": {
         "data": {
          "bar": [
           {
            "error_x": {
             "color": "#2a3f5f"
            },
            "error_y": {
             "color": "#2a3f5f"
            },
            "marker": {
             "line": {
              "color": "#E5ECF6",
              "width": 0.5
             },
             "pattern": {
              "fillmode": "overlay",
              "size": 10,
              "solidity": 0.2
             }
            },
            "type": "bar"
           }
          ],
          "barpolar": [
           {
            "marker": {
             "line": {
              "color": "#E5ECF6",
              "width": 0.5
             },
             "pattern": {
              "fillmode": "overlay",
              "size": 10,
              "solidity": 0.2
             }
            },
            "type": "barpolar"
           }
          ],
          "carpet": [
           {
            "aaxis": {
             "endlinecolor": "#2a3f5f",
             "gridcolor": "white",
             "linecolor": "white",
             "minorgridcolor": "white",
             "startlinecolor": "#2a3f5f"
            },
            "baxis": {
             "endlinecolor": "#2a3f5f",
             "gridcolor": "white",
             "linecolor": "white",
             "minorgridcolor": "white",
             "startlinecolor": "#2a3f5f"
            },
            "type": "carpet"
           }
          ],
          "choropleth": [
           {
            "colorbar": {
             "outlinewidth": 0,
             "ticks": ""
            },
            "type": "choropleth"
           }
          ],
          "contour": [
           {
            "colorbar": {
             "outlinewidth": 0,
             "ticks": ""
            },
            "colorscale": [
             [
              0,
              "#0d0887"
             ],
             [
              0.1111111111111111,
              "#46039f"
             ],
             [
              0.2222222222222222,
              "#7201a8"
             ],
             [
              0.3333333333333333,
              "#9c179e"
             ],
             [
              0.4444444444444444,
              "#bd3786"
             ],
             [
              0.5555555555555556,
              "#d8576b"
             ],
             [
              0.6666666666666666,
              "#ed7953"
             ],
             [
              0.7777777777777778,
              "#fb9f3a"
             ],
             [
              0.8888888888888888,
              "#fdca26"
             ],
             [
              1,
              "#f0f921"
             ]
            ],
            "type": "contour"
           }
          ],
          "contourcarpet": [
           {
            "colorbar": {
             "outlinewidth": 0,
             "ticks": ""
            },
            "type": "contourcarpet"
           }
          ],
          "heatmap": [
           {
            "colorbar": {
             "outlinewidth": 0,
             "ticks": ""
            },
            "colorscale": [
             [
              0,
              "#0d0887"
             ],
             [
              0.1111111111111111,
              "#46039f"
             ],
             [
              0.2222222222222222,
              "#7201a8"
             ],
             [
              0.3333333333333333,
              "#9c179e"
             ],
             [
              0.4444444444444444,
              "#bd3786"
             ],
             [
              0.5555555555555556,
              "#d8576b"
             ],
             [
              0.6666666666666666,
              "#ed7953"
             ],
             [
              0.7777777777777778,
              "#fb9f3a"
             ],
             [
              0.8888888888888888,
              "#fdca26"
             ],
             [
              1,
              "#f0f921"
             ]
            ],
            "type": "heatmap"
           }
          ],
          "heatmapgl": [
           {
            "colorbar": {
             "outlinewidth": 0,
             "ticks": ""
            },
            "colorscale": [
             [
              0,
              "#0d0887"
             ],
             [
              0.1111111111111111,
              "#46039f"
             ],
             [
              0.2222222222222222,
              "#7201a8"
             ],
             [
              0.3333333333333333,
              "#9c179e"
             ],
             [
              0.4444444444444444,
              "#bd3786"
             ],
             [
              0.5555555555555556,
              "#d8576b"
             ],
             [
              0.6666666666666666,
              "#ed7953"
             ],
             [
              0.7777777777777778,
              "#fb9f3a"
             ],
             [
              0.8888888888888888,
              "#fdca26"
             ],
             [
              1,
              "#f0f921"
             ]
            ],
            "type": "heatmapgl"
           }
          ],
          "histogram": [
           {
            "marker": {
             "pattern": {
              "fillmode": "overlay",
              "size": 10,
              "solidity": 0.2
             }
            },
            "type": "histogram"
           }
          ],
          "histogram2d": [
           {
            "colorbar": {
             "outlinewidth": 0,
             "ticks": ""
            },
            "colorscale": [
             [
              0,
              "#0d0887"
             ],
             [
              0.1111111111111111,
              "#46039f"
             ],
             [
              0.2222222222222222,
              "#7201a8"
             ],
             [
              0.3333333333333333,
              "#9c179e"
             ],
             [
              0.4444444444444444,
              "#bd3786"
             ],
             [
              0.5555555555555556,
              "#d8576b"
             ],
             [
              0.6666666666666666,
              "#ed7953"
             ],
             [
              0.7777777777777778,
              "#fb9f3a"
             ],
             [
              0.8888888888888888,
              "#fdca26"
             ],
             [
              1,
              "#f0f921"
             ]
            ],
            "type": "histogram2d"
           }
          ],
          "histogram2dcontour": [
           {
            "colorbar": {
             "outlinewidth": 0,
             "ticks": ""
            },
            "colorscale": [
             [
              0,
              "#0d0887"
             ],
             [
              0.1111111111111111,
              "#46039f"
             ],
             [
              0.2222222222222222,
              "#7201a8"
             ],
             [
              0.3333333333333333,
              "#9c179e"
             ],
             [
              0.4444444444444444,
              "#bd3786"
             ],
             [
              0.5555555555555556,
              "#d8576b"
             ],
             [
              0.6666666666666666,
              "#ed7953"
             ],
             [
              0.7777777777777778,
              "#fb9f3a"
             ],
             [
              0.8888888888888888,
              "#fdca26"
             ],
             [
              1,
              "#f0f921"
             ]
            ],
            "type": "histogram2dcontour"
           }
          ],
          "mesh3d": [
           {
            "colorbar": {
             "outlinewidth": 0,
             "ticks": ""
            },
            "type": "mesh3d"
           }
          ],
          "parcoords": [
           {
            "line": {
             "colorbar": {
              "outlinewidth": 0,
              "ticks": ""
             }
            },
            "type": "parcoords"
           }
          ],
          "pie": [
           {
            "automargin": true,
            "type": "pie"
           }
          ],
          "scatter": [
           {
            "fillpattern": {
             "fillmode": "overlay",
             "size": 10,
             "solidity": 0.2
            },
            "type": "scatter"
           }
          ],
          "scatter3d": [
           {
            "line": {
             "colorbar": {
              "outlinewidth": 0,
              "ticks": ""
             }
            },
            "marker": {
             "colorbar": {
              "outlinewidth": 0,
              "ticks": ""
             }
            },
            "type": "scatter3d"
           }
          ],
          "scattercarpet": [
           {
            "marker": {
             "colorbar": {
              "outlinewidth": 0,
              "ticks": ""
             }
            },
            "type": "scattercarpet"
           }
          ],
          "scattergeo": [
           {
            "marker": {
             "colorbar": {
              "outlinewidth": 0,
              "ticks": ""
             }
            },
            "type": "scattergeo"
           }
          ],
          "scattergl": [
           {
            "marker": {
             "colorbar": {
              "outlinewidth": 0,
              "ticks": ""
             }
            },
            "type": "scattergl"
           }
          ],
          "scattermapbox": [
           {
            "marker": {
             "colorbar": {
              "outlinewidth": 0,
              "ticks": ""
             }
            },
            "type": "scattermapbox"
           }
          ],
          "scatterpolar": [
           {
            "marker": {
             "colorbar": {
              "outlinewidth": 0,
              "ticks": ""
             }
            },
            "type": "scatterpolar"
           }
          ],
          "scatterpolargl": [
           {
            "marker": {
             "colorbar": {
              "outlinewidth": 0,
              "ticks": ""
             }
            },
            "type": "scatterpolargl"
           }
          ],
          "scatterternary": [
           {
            "marker": {
             "colorbar": {
              "outlinewidth": 0,
              "ticks": ""
             }
            },
            "type": "scatterternary"
           }
          ],
          "surface": [
           {
            "colorbar": {
             "outlinewidth": 0,
             "ticks": ""
            },
            "colorscale": [
             [
              0,
              "#0d0887"
             ],
             [
              0.1111111111111111,
              "#46039f"
             ],
             [
              0.2222222222222222,
              "#7201a8"
             ],
             [
              0.3333333333333333,
              "#9c179e"
             ],
             [
              0.4444444444444444,
              "#bd3786"
             ],
             [
              0.5555555555555556,
              "#d8576b"
             ],
             [
              0.6666666666666666,
              "#ed7953"
             ],
             [
              0.7777777777777778,
              "#fb9f3a"
             ],
             [
              0.8888888888888888,
              "#fdca26"
             ],
             [
              1,
              "#f0f921"
             ]
            ],
            "type": "surface"
           }
          ],
          "table": [
           {
            "cells": {
             "fill": {
              "color": "#EBF0F8"
             },
             "line": {
              "color": "white"
             }
            },
            "header": {
             "fill": {
              "color": "#C8D4E3"
             },
             "line": {
              "color": "white"
             }
            },
            "type": "table"
           }
          ]
         },
         "layout": {
          "annotationdefaults": {
           "arrowcolor": "#2a3f5f",
           "arrowhead": 0,
           "arrowwidth": 1
          },
          "autotypenumbers": "strict",
          "coloraxis": {
           "colorbar": {
            "outlinewidth": 0,
            "ticks": ""
           }
          },
          "colorscale": {
           "diverging": [
            [
             0,
             "#8e0152"
            ],
            [
             0.1,
             "#c51b7d"
            ],
            [
             0.2,
             "#de77ae"
            ],
            [
             0.3,
             "#f1b6da"
            ],
            [
             0.4,
             "#fde0ef"
            ],
            [
             0.5,
             "#f7f7f7"
            ],
            [
             0.6,
             "#e6f5d0"
            ],
            [
             0.7,
             "#b8e186"
            ],
            [
             0.8,
             "#7fbc41"
            ],
            [
             0.9,
             "#4d9221"
            ],
            [
             1,
             "#276419"
            ]
           ],
           "sequential": [
            [
             0,
             "#0d0887"
            ],
            [
             0.1111111111111111,
             "#46039f"
            ],
            [
             0.2222222222222222,
             "#7201a8"
            ],
            [
             0.3333333333333333,
             "#9c179e"
            ],
            [
             0.4444444444444444,
             "#bd3786"
            ],
            [
             0.5555555555555556,
             "#d8576b"
            ],
            [
             0.6666666666666666,
             "#ed7953"
            ],
            [
             0.7777777777777778,
             "#fb9f3a"
            ],
            [
             0.8888888888888888,
             "#fdca26"
            ],
            [
             1,
             "#f0f921"
            ]
           ],
           "sequentialminus": [
            [
             0,
             "#0d0887"
            ],
            [
             0.1111111111111111,
             "#46039f"
            ],
            [
             0.2222222222222222,
             "#7201a8"
            ],
            [
             0.3333333333333333,
             "#9c179e"
            ],
            [
             0.4444444444444444,
             "#bd3786"
            ],
            [
             0.5555555555555556,
             "#d8576b"
            ],
            [
             0.6666666666666666,
             "#ed7953"
            ],
            [
             0.7777777777777778,
             "#fb9f3a"
            ],
            [
             0.8888888888888888,
             "#fdca26"
            ],
            [
             1,
             "#f0f921"
            ]
           ]
          },
          "colorway": [
           "#636efa",
           "#EF553B",
           "#00cc96",
           "#ab63fa",
           "#FFA15A",
           "#19d3f3",
           "#FF6692",
           "#B6E880",
           "#FF97FF",
           "#FECB52"
          ],
          "font": {
           "color": "#2a3f5f"
          },
          "geo": {
           "bgcolor": "white",
           "lakecolor": "white",
           "landcolor": "#E5ECF6",
           "showlakes": true,
           "showland": true,
           "subunitcolor": "white"
          },
          "hoverlabel": {
           "align": "left"
          },
          "hovermode": "closest",
          "mapbox": {
           "style": "light"
          },
          "paper_bgcolor": "white",
          "plot_bgcolor": "#E5ECF6",
          "polar": {
           "angularaxis": {
            "gridcolor": "white",
            "linecolor": "white",
            "ticks": ""
           },
           "bgcolor": "#E5ECF6",
           "radialaxis": {
            "gridcolor": "white",
            "linecolor": "white",
            "ticks": ""
           }
          },
          "scene": {
           "xaxis": {
            "backgroundcolor": "#E5ECF6",
            "gridcolor": "white",
            "gridwidth": 2,
            "linecolor": "white",
            "showbackground": true,
            "ticks": "",
            "zerolinecolor": "white"
           },
           "yaxis": {
            "backgroundcolor": "#E5ECF6",
            "gridcolor": "white",
            "gridwidth": 2,
            "linecolor": "white",
            "showbackground": true,
            "ticks": "",
            "zerolinecolor": "white"
           },
           "zaxis": {
            "backgroundcolor": "#E5ECF6",
            "gridcolor": "white",
            "gridwidth": 2,
            "linecolor": "white",
            "showbackground": true,
            "ticks": "",
            "zerolinecolor": "white"
           }
          },
          "shapedefaults": {
           "line": {
            "color": "#2a3f5f"
           }
          },
          "ternary": {
           "aaxis": {
            "gridcolor": "white",
            "linecolor": "white",
            "ticks": ""
           },
           "baxis": {
            "gridcolor": "white",
            "linecolor": "white",
            "ticks": ""
           },
           "bgcolor": "#E5ECF6",
           "caxis": {
            "gridcolor": "white",
            "linecolor": "white",
            "ticks": ""
           }
          },
          "title": {
           "x": 0.05
          },
          "xaxis": {
           "automargin": true,
           "gridcolor": "white",
           "linecolor": "white",
           "ticks": "",
           "title": {
            "standoff": 15
           },
           "zerolinecolor": "white",
           "zerolinewidth": 2
          },
          "yaxis": {
           "automargin": true,
           "gridcolor": "white",
           "linecolor": "white",
           "ticks": "",
           "title": {
            "standoff": 15
           },
           "zerolinecolor": "white",
           "zerolinewidth": 2
          }
         }
        },
        "xaxis": {
         "anchor": "y",
         "domain": [
          0,
          1
         ],
         "title": {
          "text": "Tamaño de la matriz"
         }
        },
        "yaxis": {
         "anchor": "x",
         "domain": [
          0,
          1
         ],
         "title": {
          "text": "Tiempo en segundos"
         }
        }
       }
      }
     },
     "metadata": {},
     "output_type": "display_data"
    }
   ],
   "source": [
    "fig = px.line(df2, x=\"experiment\", y=\"Valor\", color='Variable', markers=True, title='', labels=labels)\n",
    "fig.show()"
   ]
  },
  {
   "cell_type": "code",
   "execution_count": 7,
   "metadata": {},
   "outputs": [
    {
     "data": {
      "application/vnd.plotly.v1+json": {
       "config": {
        "plotlyServerURL": "https://plot.ly"
       },
       "data": [
        {
         "alignmentgroup": "True",
         "hovertemplate": "Variable=sin<br>Tamaño de la matriz=%{x}<br>Tiempo en segundos=%{y}<extra></extra>",
         "legendgroup": "sin",
         "marker": {
          "color": "#636efa"
         },
         "name": "sin",
         "notched": false,
         "offsetgroup": "sin",
         "orientation": "v",
         "showlegend": true,
         "type": "box",
         "x": [
          100,
          100,
          100,
          100,
          100,
          100,
          100,
          100,
          100,
          100,
          100,
          100,
          100,
          100,
          100,
          100,
          100,
          100,
          100,
          100,
          100,
          100,
          100,
          100,
          100,
          100,
          100,
          100,
          100,
          100,
          200,
          200,
          200,
          200,
          200,
          200,
          200,
          200,
          200,
          200,
          200,
          200,
          200,
          200,
          200,
          200,
          200,
          200,
          200,
          200,
          200,
          200,
          200,
          200,
          200,
          200,
          200,
          200,
          200,
          200,
          300,
          300,
          300,
          300,
          300,
          300,
          300,
          300,
          300,
          300,
          300,
          300,
          300,
          300,
          300,
          300,
          300,
          300,
          300,
          300,
          300,
          300,
          300,
          300,
          300,
          300,
          300,
          300,
          300,
          300,
          400,
          400,
          400,
          400,
          400,
          400,
          400,
          400,
          400,
          400,
          400,
          400,
          400,
          400,
          400,
          400,
          400,
          400,
          400,
          400,
          400,
          400,
          400,
          400,
          400,
          400,
          400,
          400,
          400,
          400,
          500,
          500,
          500,
          500,
          500,
          500,
          500,
          500,
          500,
          500,
          500,
          500,
          500,
          500,
          500,
          500,
          500,
          500,
          500,
          500,
          500,
          500,
          500,
          500,
          500,
          500,
          500,
          500,
          500,
          500
         ],
         "x0": " ",
         "xaxis": "x",
         "y": [
          0.004972,
          0.004572,
          0.005439,
          0.004857,
          0.004686,
          0.004672,
          0.004519,
          0.004867,
          0.004785,
          0.004762,
          0.004478,
          0.00446,
          0.00458,
          0.004648,
          0.005079,
          0.005076,
          0.0052,
          0.005409,
          0.004553,
          0.005144,
          0.005253,
          0.005909,
          0.004806,
          0.005397,
          0.005213,
          0.004989,
          0.005216,
          0.004675,
          0.005202,
          0.004461,
          0.042935,
          0.043307,
          0.043435,
          0.042459,
          0.04257,
          0.044725,
          0.043277,
          0.043473,
          0.042676,
          0.043106,
          0.044905,
          0.045386,
          0.045563,
          0.044857,
          0.046344,
          0.044959,
          0.045588,
          0.04798,
          0.045052,
          0.045053,
          0.044921,
          0.052345,
          0.046804,
          0.045359,
          0.044914,
          0.04587,
          0.045999,
          0.045852,
          0.046305,
          0.045386,
          0.157658,
          0.154878,
          0.154813,
          0.152181,
          0.16724,
          0.154102,
          0.152184,
          0.152923,
          0.152157,
          0.158221,
          0.187104,
          0.163606,
          0.15877,
          0.158552,
          0.158758,
          0.159199,
          0.159044,
          0.156939,
          0.165872,
          0.159967,
          0.162229,
          0.167574,
          0.163469,
          0.159801,
          0.16325,
          0.162528,
          0.161087,
          0.162578,
          0.162487,
          0.161037,
          0.366163,
          0.371429,
          0.367395,
          0.369597,
          0.364728,
          0.368616,
          0.365732,
          0.369249,
          0.368321,
          0.366643,
          0.372632,
          0.371569,
          0.371852,
          0.369635,
          0.376064,
          0.368587,
          0.374629,
          0.36916,
          0.385394,
          0.371287,
          0.37519,
          0.371891,
          0.367448,
          0.376591,
          0.374489,
          0.366858,
          0.37312,
          0.379822,
          0.372322,
          0.370717,
          0.772636,
          0.795158,
          0.77153,
          0.76323,
          0.772817,
          0.763992,
          0.781103,
          0.788831,
          0.789142,
          0.762223,
          0.774275,
          0.778471,
          0.801897,
          0.774876,
          0.783287,
          0.844707,
          0.78799,
          0.774422,
          0.817007,
          0.782783,
          0.7703,
          0.795721,
          0.791707,
          0.800153,
          0.77733,
          0.77937,
          0.774284,
          0.781361,
          0.783286,
          0.764497
         ],
         "y0": " ",
         "yaxis": "y"
        },
        {
         "alignmentgroup": "True",
         "hovertemplate": "Variable=con<br>Tamaño de la matriz=%{x}<br>Tiempo en segundos=%{y}<extra></extra>",
         "legendgroup": "con",
         "marker": {
          "color": "#EF553B"
         },
         "name": "con",
         "notched": false,
         "offsetgroup": "con",
         "orientation": "v",
         "showlegend": true,
         "type": "box",
         "x": [
          100,
          100,
          100,
          100,
          100,
          100,
          100,
          100,
          100,
          100,
          100,
          100,
          100,
          100,
          100,
          100,
          100,
          100,
          100,
          100,
          100,
          100,
          100,
          100,
          100,
          100,
          100,
          100,
          100,
          100,
          200,
          200,
          200,
          200,
          200,
          200,
          200,
          200,
          200,
          200,
          200,
          200,
          200,
          200,
          200,
          200,
          200,
          200,
          200,
          200,
          200,
          200,
          200,
          200,
          200,
          200,
          200,
          200,
          200,
          200,
          300,
          300,
          300,
          300,
          300,
          300,
          300,
          300,
          300,
          300,
          300,
          300,
          300,
          300,
          300,
          300,
          300,
          300,
          300,
          300,
          300,
          300,
          300,
          300,
          300,
          300,
          300,
          300,
          300,
          300,
          400,
          400,
          400,
          400,
          400,
          400,
          400,
          400,
          400,
          400,
          400,
          400,
          400,
          400,
          400,
          400,
          400,
          400,
          400,
          400,
          400,
          400,
          400,
          400,
          400,
          400,
          400,
          400,
          400,
          400,
          500,
          500,
          500,
          500,
          500,
          500,
          500,
          500,
          500,
          500,
          500,
          500,
          500,
          500,
          500,
          500,
          500,
          500,
          500,
          500,
          500,
          500,
          500,
          500,
          500,
          500,
          500,
          500,
          500,
          500
         ],
         "x0": " ",
         "xaxis": "x",
         "y": [
          0.004276,
          0.003627,
          0.004271,
          0.003669,
          0.003952,
          0.003791,
          0.003539,
          0.004086,
          0.004927,
          0.003868,
          0.003546,
          0.003618,
          0.003651,
          0.003441,
          0.00363,
          0.003416,
          0.00348,
          0.004678,
          0.003429,
          0.003496,
          0.003756,
          0.003449,
          0.003441,
          0.003416,
          0.003561,
          0.003556,
          0.003575,
          0.003425,
          0.003519,
          0.003431,
          0.027337,
          0.029624,
          0.02849,
          0.027071,
          0.028526,
          0.026402,
          0.028137,
          0.061892,
          0.025795,
          0.027953,
          0.027831,
          0.027162,
          0.029188,
          0.028272,
          0.027759,
          0.027475,
          0.02752,
          0.026716,
          0.02704,
          0.027253,
          0.026886,
          0.029039,
          0.028119,
          0.028043,
          0.027528,
          0.027351,
          0.026582,
          0.027924,
          0.027074,
          0.028085,
          0.061287,
          0.061032,
          0.062081,
          0.06911,
          0.062775,
          0.063248,
          0.064301,
          0.062216,
          0.061787,
          0.061352,
          0.06423,
          0.063276,
          0.064319,
          0.064145,
          0.06562,
          0.065002,
          0.065119,
          0.062334,
          0.061727,
          0.062743,
          0.063249,
          0.063386,
          0.066097,
          0.06487,
          0.065828,
          0.063827,
          0.065244,
          0.063983,
          0.065366,
          0.065036,
          0.213862,
          0.21785,
          0.219965,
          0.214993,
          0.287418,
          0.325193,
          0.277733,
          0.233326,
          0.236574,
          0.226992,
          0.218474,
          0.216601,
          0.219458,
          0.217664,
          0.217303,
          0.223389,
          0.217169,
          0.216886,
          0.219184,
          0.216991,
          0.219315,
          0.218563,
          0.219524,
          0.21662,
          0.220393,
          0.221196,
          0.219626,
          0.217836,
          0.222235,
          0.218592,
          0.303577,
          0.300047,
          0.305362,
          0.308712,
          0.30611,
          0.30492,
          0.307318,
          0.311424,
          0.306781,
          0.31173,
          0.306741,
          0.30857,
          0.307146,
          0.32983,
          0.308214,
          0.310324,
          0.3233,
          0.30746,
          0.308748,
          0.307146,
          0.309436,
          0.312787,
          0.309863,
          0.305864,
          0.307969,
          0.305804,
          0.306312,
          0.3072,
          0.314514,
          0.310068
         ],
         "y0": " ",
         "yaxis": "y"
        },
        {
         "alignmentgroup": "True",
         "hovertemplate": "Variable=numpy<br>Tamaño de la matriz=%{x}<br>Tiempo en segundos=%{y}<extra></extra>",
         "legendgroup": "numpy",
         "marker": {
          "color": "#00cc96"
         },
         "name": "numpy",
         "notched": false,
         "offsetgroup": "numpy",
         "orientation": "v",
         "showlegend": true,
         "type": "box",
         "x": [
          100,
          100,
          100,
          100,
          100,
          100,
          100,
          100,
          100,
          100,
          100,
          100,
          100,
          100,
          100,
          100,
          100,
          100,
          100,
          100,
          100,
          100,
          100,
          100,
          100,
          100,
          100,
          100,
          100,
          100,
          200,
          200,
          200,
          200,
          200,
          200,
          200,
          200,
          200,
          200,
          200,
          200,
          200,
          200,
          200,
          200,
          200,
          200,
          200,
          200,
          200,
          200,
          200,
          200,
          200,
          200,
          200,
          200,
          200,
          200,
          300,
          300,
          300,
          300,
          300,
          300,
          300,
          300,
          300,
          300,
          300,
          300,
          300,
          300,
          300,
          300,
          300,
          300,
          300,
          300,
          300,
          300,
          300,
          300,
          300,
          300,
          300,
          300,
          300,
          300,
          400,
          400,
          400,
          400,
          400,
          400,
          400,
          400,
          400,
          400,
          400,
          400,
          400,
          400,
          400,
          400,
          400,
          400,
          400,
          400,
          400,
          400,
          400,
          400,
          400,
          400,
          400,
          400,
          400,
          400,
          500,
          500,
          500,
          500,
          500,
          500,
          500,
          500,
          500,
          500,
          500,
          500,
          500,
          500,
          500,
          500,
          500,
          500,
          500,
          500,
          500,
          500,
          500,
          500,
          500,
          500,
          500,
          500,
          500,
          500
         ],
         "x0": " ",
         "xaxis": "x",
         "y": [
          0.000968,
          0.000948,
          0.0009391,
          0.001025,
          0.0012283,
          0.00088,
          0.0009469,
          0.000936,
          0.000973,
          0.000893,
          0.002311707,
          0.000916719,
          0.000934362,
          0.000891209,
          0.000879765,
          0.000937939,
          0.000910044,
          0.000929356,
          0.000933886,
          0.000865459,
          0.000934601,
          0.000844955,
          0.00088191,
          0.001049995,
          0.000868559,
          0.001368046,
          0.001234531,
          0.000898123,
          0.000886679,
          0.000935316,
          0.009351,
          0.009611,
          0.011065,
          0.00863,
          0.00835,
          0.01116991,
          0.00849,
          0.0085062,
          0.00929,
          0.0087,
          0.008635044,
          0.008948565,
          0.009008169,
          0.00901103,
          0.01055789,
          0.008610249,
          0.008589029,
          0.009286165,
          0.008827448,
          0.008342981,
          0.008569479,
          0.008635521,
          0.009108067,
          0.016112566,
          0.00855422,
          0.009091854,
          0.009177685,
          0.008182287,
          0.009724379,
          0.009322405,
          0.03142,
          0.030774,
          0.02989,
          0.031255,
          0.030717,
          0.03143,
          0.030411,
          0.0281541,
          0.02885,
          0.02941,
          0.030468702,
          0.036692858,
          0.03006196,
          0.028774977,
          0.038437366,
          0.028753996,
          0.030571699,
          0.029000521,
          0.030491829,
          0.033714056,
          0.029757738,
          0.031171083,
          0.028448343,
          0.031015873,
          0.028578281,
          0.030687809,
          0.029564619,
          0.028734207,
          0.03117466,
          0.029506683,
          0.087065,
          0.0805044,
          0.079061,
          0.08816,
          0.085702,
          0.08428,
          0.08351,
          0.0845518,
          0.08335,
          0.084771,
          0.092684031,
          0.082460165,
          0.095308781,
          0.095657825,
          0.086304903,
          0.084472418,
          0.081548691,
          0.080923557,
          0.081835508,
          0.084313869,
          0.084216595,
          0.082149267,
          0.085300207,
          0.085475683,
          0.083779335,
          0.088865042,
          0.083715916,
          0.084439278,
          0.080102921,
          0.082888126,
          0.1518278,
          0.157668,
          0.15527,
          0.1559281,
          0.18138,
          0.15232,
          0.157107,
          0.152282,
          0.149502,
          0.151524,
          0.168367386,
          0.146434069,
          0.146934748,
          0.148013353,
          0.156729221,
          0.143136978,
          0.146547794,
          0.148143053,
          0.150888443,
          0.153666258,
          0.163939476,
          0.149882555,
          0.149799347,
          0.155677557,
          0.149092197,
          0.146936893,
          0.143407583,
          0.147054195,
          0.155544996,
          0.14592576
         ],
         "y0": " ",
         "yaxis": "y"
        },
        {
         "alignmentgroup": "True",
         "hovertemplate": "Variable=Reficiente<br>Tamaño de la matriz=%{x}<br>Tiempo en segundos=%{y}<extra></extra>",
         "legendgroup": "Reficiente",
         "marker": {
          "color": "#ab63fa"
         },
         "name": "Reficiente",
         "notched": false,
         "offsetgroup": "Reficiente",
         "orientation": "v",
         "showlegend": true,
         "type": "box",
         "x": [
          100,
          100,
          100,
          100,
          100,
          100,
          100,
          100,
          100,
          100,
          100,
          100,
          100,
          100,
          100,
          100,
          100,
          100,
          100,
          100,
          100,
          100,
          100,
          100,
          100,
          100,
          100,
          100,
          100,
          100,
          200,
          200,
          200,
          200,
          200,
          200,
          200,
          200,
          200,
          200,
          200,
          200,
          200,
          200,
          200,
          200,
          200,
          200,
          200,
          200,
          200,
          200,
          200,
          200,
          200,
          200,
          200,
          200,
          200,
          200,
          300,
          300,
          300,
          300,
          300,
          300,
          300,
          300,
          300,
          300,
          300,
          300,
          300,
          300,
          300,
          300,
          300,
          300,
          300,
          300,
          300,
          300,
          300,
          300,
          300,
          300,
          300,
          300,
          300,
          300,
          400,
          400,
          400,
          400,
          400,
          400,
          400,
          400,
          400,
          400,
          400,
          400,
          400,
          400,
          400,
          400,
          400,
          400,
          400,
          400,
          400,
          400,
          400,
          400,
          400,
          400,
          400,
          400,
          400,
          400,
          500,
          500,
          500,
          500,
          500,
          500,
          500,
          500,
          500,
          500,
          500,
          500,
          500,
          500,
          500,
          500,
          500,
          500,
          500,
          500,
          500,
          500,
          500,
          500,
          500,
          500,
          500,
          500,
          500,
          500
         ],
         "x0": " ",
         "xaxis": "x",
         "y": [
          0.002052069,
          0.002463818,
          0.001675129,
          0.002266884,
          0.001003981,
          0.014900923,
          0.001118898,
          0.000914097,
          0.001055002,
          0.001469851,
          0.001449108,
          0.001899958,
          0.00177598,
          0.001018047,
          0.00186491,
          0.001801014,
          0.001902103,
          0.000936031,
          0.001888037,
          0.001631975,
          0.001003027,
          0.000959873,
          0.001815796,
          0.001797915,
          0.001816988,
          0.002264977,
          0.001574039,
          0.001006842,
          0.001761913,
          0.001770973,
          0.079761982,
          0.011365891,
          0.01320982,
          0.012861967,
          0.010709047,
          0.013828039,
          0.013080835,
          0.013450861,
          0.01134181,
          0.012111902,
          0.011945963,
          0.008596182,
          0.013452053,
          0.013560057,
          0.014675856,
          0.012979984,
          0.012377024,
          0.008782148,
          0.013015985,
          0.0124681,
          0.009732962,
          0.013672113,
          0.013345003,
          0.013562918,
          0.012084007,
          0.013302088,
          0.011667967,
          0.011738062,
          0.013814926,
          0.01107192,
          0.032110929,
          0.029336214,
          0.033773899,
          0.034205914,
          0.031415939,
          0.029221058,
          0.038522959,
          0.032490015,
          0.0280509,
          0.048989058,
          0.054068089,
          0.035238981,
          0.031728029,
          0.030066967,
          0.030701876,
          0.030274868,
          0.029716969,
          0.028581142,
          0.033349037,
          0.030771971,
          0.032013893,
          0.032001972,
          0.030230999,
          0.030443907,
          0.026834965,
          0.041478157,
          0.045967102,
          0.03255105,
          0.035706997,
          0.033117056,
          0.060513973,
          0.058580875,
          0.061177015,
          0.086489916,
          0.079123974,
          0.060398817,
          0.059966087,
          0.058334112,
          0.060452938,
          0.061367035,
          0.064672947,
          0.056834936,
          0.065067053,
          0.056545973,
          0.058843851,
          0.057523966,
          0.058845997,
          0.060377121,
          0.055521965,
          0.06131506,
          0.052042961,
          0.059762001,
          0.058172941,
          0.054596901,
          0.05574584,
          0.05430603,
          0.055658817,
          0.054259062,
          0.061534882,
          0.058398962,
          0.153208017,
          0.113256931,
          0.122332096,
          0.108997822,
          0.102097988,
          0.112216949,
          0.1048069,
          0.109333992,
          0.105338812,
          0.104502201,
          0.096067905,
          0.098189116,
          0.102827072,
          0.093364,
          0.095773935,
          0.101812124,
          0.091289043,
          0.101857185,
          0.099812031,
          0.100538969,
          0.095566034,
          0.098798037,
          0.123525143,
          0.099480152,
          0.097339869,
          0.097836971,
          0.093795061,
          0.094133139,
          0.097126961,
          0.099705935
         ],
         "y0": " ",
         "yaxis": "y"
        },
        {
         "alignmentgroup": "True",
         "hovertemplate": "Variable=R<br>Tamaño de la matriz=%{x}<br>Tiempo en segundos=%{y}<extra></extra>",
         "legendgroup": "R",
         "marker": {
          "color": "#FFA15A"
         },
         "name": "R",
         "notched": false,
         "offsetgroup": "R",
         "orientation": "v",
         "showlegend": true,
         "type": "box",
         "x": [
          100,
          100,
          100,
          100,
          100,
          100,
          100,
          100,
          100,
          100,
          100,
          100,
          100,
          100,
          100,
          100,
          100,
          100,
          100,
          100,
          100,
          100,
          100,
          100,
          100,
          100,
          100,
          100,
          100,
          100,
          200,
          200,
          200,
          200,
          200,
          200,
          200,
          200,
          200,
          200,
          200,
          200,
          200,
          200,
          200,
          200,
          200,
          200,
          200,
          200,
          200,
          200,
          200,
          200,
          200,
          200,
          200,
          200,
          200,
          200,
          300,
          300,
          300,
          300,
          300,
          300,
          300,
          300,
          300,
          300,
          300,
          300,
          300,
          300,
          300,
          300,
          300,
          300,
          300,
          300,
          300,
          300,
          300,
          300,
          300,
          300,
          300,
          300,
          300,
          300,
          400,
          400,
          400,
          400,
          400,
          400,
          400,
          400,
          400,
          400,
          400,
          400,
          400,
          400,
          400,
          400,
          400,
          400,
          400,
          400,
          400,
          400,
          400,
          400,
          400,
          400,
          400,
          400,
          400,
          400,
          500,
          500,
          500,
          500,
          500,
          500,
          500,
          500,
          500,
          500,
          500,
          500,
          500,
          500,
          500,
          500,
          500,
          500,
          500,
          500,
          500,
          500,
          500,
          500,
          500,
          500,
          500,
          500,
          500,
          500
         ],
         "x0": " ",
         "xaxis": "x",
         "y": [
          0.275470972,
          0.237931013,
          0.292486906,
          0.239003897,
          0.244292974,
          0.250683069,
          0.255506039,
          0.246921062,
          0.253752947,
          0.25820303,
          0.297336102,
          0.338357925,
          0.241130114,
          0.241087914,
          0.245337009,
          0.238497972,
          0.237160921,
          0.252131939,
          0.264588118,
          0.240927935,
          0.24554801,
          0.247210026,
          0.25383687,
          0.326674938,
          0.244805098,
          0.27018714,
          0.232745171,
          0.237958908,
          0.244420052,
          0.244282961,
          2.120001078,
          1.946323872,
          1.985955,
          1.790250063,
          1.768816948,
          1.715674162,
          1.70531106,
          1.759767056,
          1.89327693,
          1.816216946,
          1.83771801,
          1.767651081,
          1.867024899,
          1.807898998,
          1.741117001,
          1.748038054,
          1.782528877,
          1.82155323,
          1.754458904,
          1.754415035,
          1.685156107,
          1.756778955,
          1.755461931,
          1.825059891,
          1.787445068,
          1.78350997,
          1.791168213,
          1.786264181,
          1.753118992,
          1.884974003,
          5.900969982,
          5.741079092,
          6.030907869,
          5.655731916,
          5.891386032,
          5.979218006,
          8.859688997,
          6.204164982,
          5.686128139,
          5.459473848,
          5.842141867,
          5.730473042,
          5.279747009,
          5.433980942,
          6.033278942,
          5.323112011,
          5.37288785,
          5.314859867,
          5.532294035,
          5.28830719,
          5.385900974,
          5.445277929,
          5.328327179,
          5.284352064,
          5.353958845,
          5.343637943,
          5.270737886,
          5.258709908,
          5.449285984,
          6.247473955,
          13.7770741,
          13.41415691,
          15.43022108,
          13.02091908,
          13.81084704,
          13.81361103,
          12.79179502,
          13.29590297,
          13.24711704,
          13.99170399,
          13.34463692,
          13.25660205,
          12.36082506,
          12.35044503,
          12.63880396,
          12.59681606,
          13.49213195,
          12.52226901,
          12.60851383,
          14.01778507,
          13.14011502,
          12.77601504,
          12.88434696,
          12.79843807,
          12.99957585,
          13.25209808,
          13.19211507,
          12.73015785,
          12.848037,
          13.00653696,
          26.11528301,
          26.14954591,
          25.70966578,
          25.59786391,
          25.39545894,
          25.29527307,
          25.06311417,
          25.62104201,
          24.90227604,
          26.76339698,
          23.28764987,
          25.83446908,
          25.07113194,
          24.78199816,
          23.53987098,
          24.83722615,
          24.192976,
          25.07229686,
          24.8609271,
          25.145015,
          23.27846694,
          23.94031191,
          25.6547091,
          24.36848116,
          23.20429897,
          23.18044901,
          23.20603704,
          22.89138389,
          23.17614889,
          23.28456306
         ],
         "y0": " ",
         "yaxis": "y"
        }
       ],
       "layout": {
        "boxmode": "group",
        "legend": {
         "title": {
          "text": "Variable"
         },
         "tracegroupgap": 0
        },
        "margin": {
         "t": 60
        },
        "template": {
         "data": {
          "bar": [
           {
            "error_x": {
             "color": "#2a3f5f"
            },
            "error_y": {
             "color": "#2a3f5f"
            },
            "marker": {
             "line": {
              "color": "#E5ECF6",
              "width": 0.5
             },
             "pattern": {
              "fillmode": "overlay",
              "size": 10,
              "solidity": 0.2
             }
            },
            "type": "bar"
           }
          ],
          "barpolar": [
           {
            "marker": {
             "line": {
              "color": "#E5ECF6",
              "width": 0.5
             },
             "pattern": {
              "fillmode": "overlay",
              "size": 10,
              "solidity": 0.2
             }
            },
            "type": "barpolar"
           }
          ],
          "carpet": [
           {
            "aaxis": {
             "endlinecolor": "#2a3f5f",
             "gridcolor": "white",
             "linecolor": "white",
             "minorgridcolor": "white",
             "startlinecolor": "#2a3f5f"
            },
            "baxis": {
             "endlinecolor": "#2a3f5f",
             "gridcolor": "white",
             "linecolor": "white",
             "minorgridcolor": "white",
             "startlinecolor": "#2a3f5f"
            },
            "type": "carpet"
           }
          ],
          "choropleth": [
           {
            "colorbar": {
             "outlinewidth": 0,
             "ticks": ""
            },
            "type": "choropleth"
           }
          ],
          "contour": [
           {
            "colorbar": {
             "outlinewidth": 0,
             "ticks": ""
            },
            "colorscale": [
             [
              0,
              "#0d0887"
             ],
             [
              0.1111111111111111,
              "#46039f"
             ],
             [
              0.2222222222222222,
              "#7201a8"
             ],
             [
              0.3333333333333333,
              "#9c179e"
             ],
             [
              0.4444444444444444,
              "#bd3786"
             ],
             [
              0.5555555555555556,
              "#d8576b"
             ],
             [
              0.6666666666666666,
              "#ed7953"
             ],
             [
              0.7777777777777778,
              "#fb9f3a"
             ],
             [
              0.8888888888888888,
              "#fdca26"
             ],
             [
              1,
              "#f0f921"
             ]
            ],
            "type": "contour"
           }
          ],
          "contourcarpet": [
           {
            "colorbar": {
             "outlinewidth": 0,
             "ticks": ""
            },
            "type": "contourcarpet"
           }
          ],
          "heatmap": [
           {
            "colorbar": {
             "outlinewidth": 0,
             "ticks": ""
            },
            "colorscale": [
             [
              0,
              "#0d0887"
             ],
             [
              0.1111111111111111,
              "#46039f"
             ],
             [
              0.2222222222222222,
              "#7201a8"
             ],
             [
              0.3333333333333333,
              "#9c179e"
             ],
             [
              0.4444444444444444,
              "#bd3786"
             ],
             [
              0.5555555555555556,
              "#d8576b"
             ],
             [
              0.6666666666666666,
              "#ed7953"
             ],
             [
              0.7777777777777778,
              "#fb9f3a"
             ],
             [
              0.8888888888888888,
              "#fdca26"
             ],
             [
              1,
              "#f0f921"
             ]
            ],
            "type": "heatmap"
           }
          ],
          "heatmapgl": [
           {
            "colorbar": {
             "outlinewidth": 0,
             "ticks": ""
            },
            "colorscale": [
             [
              0,
              "#0d0887"
             ],
             [
              0.1111111111111111,
              "#46039f"
             ],
             [
              0.2222222222222222,
              "#7201a8"
             ],
             [
              0.3333333333333333,
              "#9c179e"
             ],
             [
              0.4444444444444444,
              "#bd3786"
             ],
             [
              0.5555555555555556,
              "#d8576b"
             ],
             [
              0.6666666666666666,
              "#ed7953"
             ],
             [
              0.7777777777777778,
              "#fb9f3a"
             ],
             [
              0.8888888888888888,
              "#fdca26"
             ],
             [
              1,
              "#f0f921"
             ]
            ],
            "type": "heatmapgl"
           }
          ],
          "histogram": [
           {
            "marker": {
             "pattern": {
              "fillmode": "overlay",
              "size": 10,
              "solidity": 0.2
             }
            },
            "type": "histogram"
           }
          ],
          "histogram2d": [
           {
            "colorbar": {
             "outlinewidth": 0,
             "ticks": ""
            },
            "colorscale": [
             [
              0,
              "#0d0887"
             ],
             [
              0.1111111111111111,
              "#46039f"
             ],
             [
              0.2222222222222222,
              "#7201a8"
             ],
             [
              0.3333333333333333,
              "#9c179e"
             ],
             [
              0.4444444444444444,
              "#bd3786"
             ],
             [
              0.5555555555555556,
              "#d8576b"
             ],
             [
              0.6666666666666666,
              "#ed7953"
             ],
             [
              0.7777777777777778,
              "#fb9f3a"
             ],
             [
              0.8888888888888888,
              "#fdca26"
             ],
             [
              1,
              "#f0f921"
             ]
            ],
            "type": "histogram2d"
           }
          ],
          "histogram2dcontour": [
           {
            "colorbar": {
             "outlinewidth": 0,
             "ticks": ""
            },
            "colorscale": [
             [
              0,
              "#0d0887"
             ],
             [
              0.1111111111111111,
              "#46039f"
             ],
             [
              0.2222222222222222,
              "#7201a8"
             ],
             [
              0.3333333333333333,
              "#9c179e"
             ],
             [
              0.4444444444444444,
              "#bd3786"
             ],
             [
              0.5555555555555556,
              "#d8576b"
             ],
             [
              0.6666666666666666,
              "#ed7953"
             ],
             [
              0.7777777777777778,
              "#fb9f3a"
             ],
             [
              0.8888888888888888,
              "#fdca26"
             ],
             [
              1,
              "#f0f921"
             ]
            ],
            "type": "histogram2dcontour"
           }
          ],
          "mesh3d": [
           {
            "colorbar": {
             "outlinewidth": 0,
             "ticks": ""
            },
            "type": "mesh3d"
           }
          ],
          "parcoords": [
           {
            "line": {
             "colorbar": {
              "outlinewidth": 0,
              "ticks": ""
             }
            },
            "type": "parcoords"
           }
          ],
          "pie": [
           {
            "automargin": true,
            "type": "pie"
           }
          ],
          "scatter": [
           {
            "fillpattern": {
             "fillmode": "overlay",
             "size": 10,
             "solidity": 0.2
            },
            "type": "scatter"
           }
          ],
          "scatter3d": [
           {
            "line": {
             "colorbar": {
              "outlinewidth": 0,
              "ticks": ""
             }
            },
            "marker": {
             "colorbar": {
              "outlinewidth": 0,
              "ticks": ""
             }
            },
            "type": "scatter3d"
           }
          ],
          "scattercarpet": [
           {
            "marker": {
             "colorbar": {
              "outlinewidth": 0,
              "ticks": ""
             }
            },
            "type": "scattercarpet"
           }
          ],
          "scattergeo": [
           {
            "marker": {
             "colorbar": {
              "outlinewidth": 0,
              "ticks": ""
             }
            },
            "type": "scattergeo"
           }
          ],
          "scattergl": [
           {
            "marker": {
             "colorbar": {
              "outlinewidth": 0,
              "ticks": ""
             }
            },
            "type": "scattergl"
           }
          ],
          "scattermapbox": [
           {
            "marker": {
             "colorbar": {
              "outlinewidth": 0,
              "ticks": ""
             }
            },
            "type": "scattermapbox"
           }
          ],
          "scatterpolar": [
           {
            "marker": {
             "colorbar": {
              "outlinewidth": 0,
              "ticks": ""
             }
            },
            "type": "scatterpolar"
           }
          ],
          "scatterpolargl": [
           {
            "marker": {
             "colorbar": {
              "outlinewidth": 0,
              "ticks": ""
             }
            },
            "type": "scatterpolargl"
           }
          ],
          "scatterternary": [
           {
            "marker": {
             "colorbar": {
              "outlinewidth": 0,
              "ticks": ""
             }
            },
            "type": "scatterternary"
           }
          ],
          "surface": [
           {
            "colorbar": {
             "outlinewidth": 0,
             "ticks": ""
            },
            "colorscale": [
             [
              0,
              "#0d0887"
             ],
             [
              0.1111111111111111,
              "#46039f"
             ],
             [
              0.2222222222222222,
              "#7201a8"
             ],
             [
              0.3333333333333333,
              "#9c179e"
             ],
             [
              0.4444444444444444,
              "#bd3786"
             ],
             [
              0.5555555555555556,
              "#d8576b"
             ],
             [
              0.6666666666666666,
              "#ed7953"
             ],
             [
              0.7777777777777778,
              "#fb9f3a"
             ],
             [
              0.8888888888888888,
              "#fdca26"
             ],
             [
              1,
              "#f0f921"
             ]
            ],
            "type": "surface"
           }
          ],
          "table": [
           {
            "cells": {
             "fill": {
              "color": "#EBF0F8"
             },
             "line": {
              "color": "white"
             }
            },
            "header": {
             "fill": {
              "color": "#C8D4E3"
             },
             "line": {
              "color": "white"
             }
            },
            "type": "table"
           }
          ]
         },
         "layout": {
          "annotationdefaults": {
           "arrowcolor": "#2a3f5f",
           "arrowhead": 0,
           "arrowwidth": 1
          },
          "autotypenumbers": "strict",
          "coloraxis": {
           "colorbar": {
            "outlinewidth": 0,
            "ticks": ""
           }
          },
          "colorscale": {
           "diverging": [
            [
             0,
             "#8e0152"
            ],
            [
             0.1,
             "#c51b7d"
            ],
            [
             0.2,
             "#de77ae"
            ],
            [
             0.3,
             "#f1b6da"
            ],
            [
             0.4,
             "#fde0ef"
            ],
            [
             0.5,
             "#f7f7f7"
            ],
            [
             0.6,
             "#e6f5d0"
            ],
            [
             0.7,
             "#b8e186"
            ],
            [
             0.8,
             "#7fbc41"
            ],
            [
             0.9,
             "#4d9221"
            ],
            [
             1,
             "#276419"
            ]
           ],
           "sequential": [
            [
             0,
             "#0d0887"
            ],
            [
             0.1111111111111111,
             "#46039f"
            ],
            [
             0.2222222222222222,
             "#7201a8"
            ],
            [
             0.3333333333333333,
             "#9c179e"
            ],
            [
             0.4444444444444444,
             "#bd3786"
            ],
            [
             0.5555555555555556,
             "#d8576b"
            ],
            [
             0.6666666666666666,
             "#ed7953"
            ],
            [
             0.7777777777777778,
             "#fb9f3a"
            ],
            [
             0.8888888888888888,
             "#fdca26"
            ],
            [
             1,
             "#f0f921"
            ]
           ],
           "sequentialminus": [
            [
             0,
             "#0d0887"
            ],
            [
             0.1111111111111111,
             "#46039f"
            ],
            [
             0.2222222222222222,
             "#7201a8"
            ],
            [
             0.3333333333333333,
             "#9c179e"
            ],
            [
             0.4444444444444444,
             "#bd3786"
            ],
            [
             0.5555555555555556,
             "#d8576b"
            ],
            [
             0.6666666666666666,
             "#ed7953"
            ],
            [
             0.7777777777777778,
             "#fb9f3a"
            ],
            [
             0.8888888888888888,
             "#fdca26"
            ],
            [
             1,
             "#f0f921"
            ]
           ]
          },
          "colorway": [
           "#636efa",
           "#EF553B",
           "#00cc96",
           "#ab63fa",
           "#FFA15A",
           "#19d3f3",
           "#FF6692",
           "#B6E880",
           "#FF97FF",
           "#FECB52"
          ],
          "font": {
           "color": "#2a3f5f"
          },
          "geo": {
           "bgcolor": "white",
           "lakecolor": "white",
           "landcolor": "#E5ECF6",
           "showlakes": true,
           "showland": true,
           "subunitcolor": "white"
          },
          "hoverlabel": {
           "align": "left"
          },
          "hovermode": "closest",
          "mapbox": {
           "style": "light"
          },
          "paper_bgcolor": "white",
          "plot_bgcolor": "#E5ECF6",
          "polar": {
           "angularaxis": {
            "gridcolor": "white",
            "linecolor": "white",
            "ticks": ""
           },
           "bgcolor": "#E5ECF6",
           "radialaxis": {
            "gridcolor": "white",
            "linecolor": "white",
            "ticks": ""
           }
          },
          "scene": {
           "xaxis": {
            "backgroundcolor": "#E5ECF6",
            "gridcolor": "white",
            "gridwidth": 2,
            "linecolor": "white",
            "showbackground": true,
            "ticks": "",
            "zerolinecolor": "white"
           },
           "yaxis": {
            "backgroundcolor": "#E5ECF6",
            "gridcolor": "white",
            "gridwidth": 2,
            "linecolor": "white",
            "showbackground": true,
            "ticks": "",
            "zerolinecolor": "white"
           },
           "zaxis": {
            "backgroundcolor": "#E5ECF6",
            "gridcolor": "white",
            "gridwidth": 2,
            "linecolor": "white",
            "showbackground": true,
            "ticks": "",
            "zerolinecolor": "white"
           }
          },
          "shapedefaults": {
           "line": {
            "color": "#2a3f5f"
           }
          },
          "ternary": {
           "aaxis": {
            "gridcolor": "white",
            "linecolor": "white",
            "ticks": ""
           },
           "baxis": {
            "gridcolor": "white",
            "linecolor": "white",
            "ticks": ""
           },
           "bgcolor": "#E5ECF6",
           "caxis": {
            "gridcolor": "white",
            "linecolor": "white",
            "ticks": ""
           }
          },
          "title": {
           "x": 0.05
          },
          "xaxis": {
           "automargin": true,
           "gridcolor": "white",
           "linecolor": "white",
           "ticks": "",
           "title": {
            "standoff": 15
           },
           "zerolinecolor": "white",
           "zerolinewidth": 2
          },
          "yaxis": {
           "automargin": true,
           "gridcolor": "white",
           "linecolor": "white",
           "ticks": "",
           "title": {
            "standoff": 15
           },
           "zerolinecolor": "white",
           "zerolinewidth": 2
          }
         }
        },
        "xaxis": {
         "anchor": "y",
         "domain": [
          0,
          1
         ],
         "title": {
          "text": "Tamaño de la matriz"
         }
        },
        "yaxis": {
         "anchor": "x",
         "domain": [
          0,
          1
         ],
         "title": {
          "text": "Tiempo en segundos"
         }
        }
       }
      }
     },
     "metadata": {},
     "output_type": "display_data"
    }
   ],
   "source": [
    "fig = px.box(df, x=\"experiment\", y=\"Valor\", color='Variable', labels=labels)\n",
    "fig.show()"
   ]
  },
  {
   "cell_type": "code",
   "execution_count": 9,
   "metadata": {},
   "outputs": [
    {
     "data": {
      "text/html": [
       "<div>\n",
       "<style scoped>\n",
       "    .dataframe tbody tr th:only-of-type {\n",
       "        vertical-align: middle;\n",
       "    }\n",
       "\n",
       "    .dataframe tbody tr th {\n",
       "        vertical-align: top;\n",
       "    }\n",
       "\n",
       "    .dataframe thead th {\n",
       "        text-align: right;\n",
       "    }\n",
       "</style>\n",
       "<table border=\"1\" class=\"dataframe\">\n",
       "  <thead>\n",
       "    <tr style=\"text-align: right;\">\n",
       "      <th></th>\n",
       "      <th>experiment</th>\n",
       "      <th>Variable</th>\n",
       "      <th>Valor</th>\n",
       "    </tr>\n",
       "  </thead>\n",
       "  <tbody>\n",
       "    <tr>\n",
       "      <th>0</th>\n",
       "      <td>100</td>\n",
       "      <td>sin</td>\n",
       "      <td>0.004972</td>\n",
       "    </tr>\n",
       "    <tr>\n",
       "      <th>1</th>\n",
       "      <td>100</td>\n",
       "      <td>sin</td>\n",
       "      <td>0.004572</td>\n",
       "    </tr>\n",
       "    <tr>\n",
       "      <th>2</th>\n",
       "      <td>100</td>\n",
       "      <td>sin</td>\n",
       "      <td>0.005439</td>\n",
       "    </tr>\n",
       "    <tr>\n",
       "      <th>3</th>\n",
       "      <td>100</td>\n",
       "      <td>sin</td>\n",
       "      <td>0.004857</td>\n",
       "    </tr>\n",
       "    <tr>\n",
       "      <th>4</th>\n",
       "      <td>100</td>\n",
       "      <td>sin</td>\n",
       "      <td>0.004686</td>\n",
       "    </tr>\n",
       "  </tbody>\n",
       "</table>\n",
       "</div>"
      ],
      "text/plain": [
       "   experiment Variable     Valor\n",
       "0         100      sin  0.004972\n",
       "1         100      sin  0.004572\n",
       "2         100      sin  0.005439\n",
       "3         100      sin  0.004857\n",
       "4         100      sin  0.004686"
      ]
     },
     "execution_count": 9,
     "metadata": {},
     "output_type": "execute_result"
    }
   ],
   "source": [
    "df = pd.read_csv('../data/experimento1.csv', sep = ',', decimal = '.', header = 0, encoding = 'utf-8')\n",
    "df = df.melt(id_vars=['experiment'], \n",
    "             value_vars=['sin', 'con', 'numpy'],\n",
    "             var_name='Variable', \n",
    "             value_name='Valor')\n",
    "df.head()"
   ]
  },
  {
   "cell_type": "code",
   "execution_count": 10,
   "metadata": {},
   "outputs": [
    {
     "data": {
      "text/html": [
       "<table class=\"simpletable\">\n",
       "<caption>Multiple Comparison of Means - Tukey HSD, FWER=0.05</caption>\n",
       "<tr>\n",
       "  <th>group1</th> <th>group2</th> <th>meandiff</th>  <th>p-adj</th>  <th>lower</th>   <th>upper</th> <th>reject</th>\n",
       "</tr>\n",
       "<tr>\n",
       "    <td>100</td>    <td>200</td>   <td>0.0245</td>  <td>0.7373</td> <td>-0.0303</td> <td>0.0793</td>  <td>False</td>\n",
       "</tr>\n",
       "<tr>\n",
       "    <td>100</td>    <td>300</td>   <td>0.0817</td>  <td>0.0005</td> <td>0.0269</td>  <td>0.1365</td>  <td>True</td> \n",
       "</tr>\n",
       "<tr>\n",
       "    <td>100</td>    <td>400</td>   <td>0.2247</td>    <td>0.0</td>  <td>0.1699</td>  <td>0.2796</td>  <td>True</td> \n",
       "</tr>\n",
       "<tr>\n",
       "    <td>100</td>    <td>500</td>   <td>0.4118</td>    <td>0.0</td>   <td>0.357</td>  <td>0.4666</td>  <td>True</td> \n",
       "</tr>\n",
       "<tr>\n",
       "    <td>200</td>    <td>300</td>   <td>0.0572</td>   <td>0.036</td> <td>0.0024</td>   <td>0.112</td>  <td>True</td> \n",
       "</tr>\n",
       "<tr>\n",
       "    <td>200</td>    <td>400</td>   <td>0.2002</td>    <td>0.0</td>  <td>0.1454</td>  <td>0.2551</td>  <td>True</td> \n",
       "</tr>\n",
       "<tr>\n",
       "    <td>200</td>    <td>500</td>   <td>0.3873</td>    <td>0.0</td>  <td>0.3325</td>  <td>0.4421</td>  <td>True</td> \n",
       "</tr>\n",
       "<tr>\n",
       "    <td>300</td>    <td>400</td>    <td>0.143</td>    <td>0.0</td>  <td>0.0882</td>  <td>0.1979</td>  <td>True</td> \n",
       "</tr>\n",
       "<tr>\n",
       "    <td>300</td>    <td>500</td>   <td>0.3301</td>    <td>0.0</td>  <td>0.2753</td>  <td>0.3849</td>  <td>True</td> \n",
       "</tr>\n",
       "<tr>\n",
       "    <td>400</td>    <td>500</td>   <td>0.1871</td>    <td>0.0</td>  <td>0.1323</td>  <td>0.2419</td>  <td>True</td> \n",
       "</tr>\n",
       "</table>"
      ],
      "text/plain": [
       "<class 'statsmodels.iolib.table.SimpleTable'>"
      ]
     },
     "execution_count": 10,
     "metadata": {},
     "output_type": "execute_result"
    }
   ],
   "source": [
    "comp = mc.MultiComparison(df['Valor'], df['experiment'])\n",
    "post_hoc_res = comp.tukeyhsd()\n",
    "post_hoc_res.summary()"
   ]
  },
  {
   "cell_type": "code",
   "execution_count": 11,
   "metadata": {},
   "outputs": [
    {
     "data": {
      "image/png": "[encoded data removed]",
      "text/plain": [
       "<Figure size 1000x600 with 1 Axes>"
      ]
     },
     "metadata": {},
     "output_type": "display_data"
    }
   ],
   "source": [
    "post_hoc_res.plot_simultaneous(ylabel='group', xlabel='Score');"
   ]
  },
  {
   "cell_type": "code",
   "execution_count": null,
   "metadata": {},
   "outputs": [],
   "source": []
  }
 ],
 "metadata": {
  "kernelspec": {
   "display_name": "Python 3",
   "language": "python",
   "name": "python3"
  },
  "language_info": {
   "codemirror_mode": {
    "name": "ipython",
    "version": 3
   },
   "file_extension": ".py",
   "mimetype": "text/x-python",
   "name": "python",
   "nbconvert_exporter": "python",
   "pygments_lexer": "ipython3",
   "version": "3.11.0"
  }
 },
 "nbformat": 4,
 "nbformat_minor": 2
}
